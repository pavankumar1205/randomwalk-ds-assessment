{
 "cells": [
  {
   "cell_type": "code",
   "execution_count": 1,
   "id": "ce7602fb",
   "metadata": {},
   "outputs": [],
   "source": [
    "import pandas as pd\n",
    "import numpy as np\n",
    "import matplotlib.pyplot as plt"
   ]
  },
  {
   "cell_type": "code",
   "execution_count": 3,
   "id": "36753f01",
   "metadata": {},
   "outputs": [],
   "source": [
    "df = pd.read_csv('books.csv')"
   ]
  },
  {
   "cell_type": "markdown",
   "id": "ebefea7b",
   "metadata": {},
   "source": [
    "# Q1"
   ]
  },
  {
   "cell_type": "code",
   "execution_count": 4,
   "id": "8e3a25ec",
   "metadata": {},
   "outputs": [
    {
     "data": {
      "text/plain": [
       "(399, 24)"
      ]
     },
     "execution_count": 4,
     "metadata": {},
     "output_type": "execute_result"
    }
   ],
   "source": [
    "df.shape"
   ]
  },
  {
   "cell_type": "code",
   "execution_count": 13,
   "id": "bc55951d",
   "metadata": {},
   "outputs": [
    {
     "name": "stdout",
     "output_type": "stream",
     "text": [
      "Number of Rows: 399\n",
      "Number of Columns: 25\n"
     ]
    }
   ],
   "source": [
    "total_rows=len(df.axes[0]) #===> Axes of 0 is for a row\n",
    "total_cols=len(df.axes[1]) #===> Axes of 1 is for a column\n",
    "print(\"Number of Rows: \"+str(total_rows))\n",
    "print(\"Number of Columns: \"+str(total_cols))"
   ]
  },
  {
   "cell_type": "markdown",
   "id": "c0cfbce8",
   "metadata": {},
   "source": [
    "# Q2"
   ]
  },
  {
   "cell_type": "code",
   "execution_count": 6,
   "id": "e9b85164",
   "metadata": {},
   "outputs": [
    {
     "data": {
      "text/plain": [
       "36"
      ]
     },
     "execution_count": 6,
     "metadata": {},
     "output_type": "execute_result"
    }
   ],
   "source": [
    "df['original_title'].isnull().sum()"
   ]
  },
  {
   "cell_type": "markdown",
   "id": "49049d15",
   "metadata": {},
   "source": [
    "# Q3"
   ]
  },
  {
   "cell_type": "code",
   "execution_count": 7,
   "id": "8516234a",
   "metadata": {},
   "outputs": [
    {
     "data": {
      "text/plain": [
       "363"
      ]
     },
     "execution_count": 7,
     "metadata": {},
     "output_type": "execute_result"
    }
   ],
   "source": [
    "filtered_data = df[df['original_title'].notnull()]\n",
    "unique_books_count = filtered_data['book_id'].nunique()\n",
    "unique_books_count"
   ]
  },
  {
   "cell_type": "markdown",
   "id": "6ba6f482",
   "metadata": {},
   "source": [
    "# Q4"
   ]
  },
  {
   "cell_type": "code",
   "execution_count": 8,
   "id": "ac9e0ed8",
   "metadata": {},
   "outputs": [
    {
     "data": {
      "text/plain": [
       "3.9837844611528843"
      ]
     },
     "execution_count": 8,
     "metadata": {},
     "output_type": "execute_result"
    }
   ],
   "source": [
    "df['average_rating'].mean()"
   ]
  },
  {
   "cell_type": "markdown",
   "id": "e23857ad",
   "metadata": {},
   "source": [
    "# Q5"
   ]
  },
  {
   "cell_type": "code",
   "execution_count": 9,
   "id": "f614f211",
   "metadata": {},
   "outputs": [
    {
     "data": {
      "text/plain": [
       "8"
      ]
     },
     "execution_count": 9,
     "metadata": {},
     "output_type": "execute_result"
    }
   ],
   "source": [
    "books_in_2000 = df['original_publication_year' ] == 2000\n",
    "books_in_2000.sum()"
   ]
  },
  {
   "cell_type": "markdown",
   "id": "375f1a29",
   "metadata": {},
   "source": [
    "# Q6"
   ]
  },
  {
   "cell_type": "code",
   "execution_count": 10,
   "id": "0142c516",
   "metadata": {},
   "outputs": [
    {
     "data": {
      "text/plain": [
       "'The Diary of a Young Girl'"
      ]
     },
     "execution_count": 10,
     "metadata": {},
     "output_type": "execute_result"
    }
   ],
   "source": [
    "max_ratings_row = df[df['work_ratings_count'] == df['work_ratings_count'].max()]\n",
    "book_with_max_ratings = max_ratings_row['title'].values[0]\n",
    "\n",
    "book_with_max_ratings"
   ]
  },
  {
   "cell_type": "markdown",
   "id": "c1d65b49",
   "metadata": {},
   "source": [
    "# Q7"
   ]
  },
  {
   "cell_type": "code",
   "execution_count": 11,
   "id": "e9c9abca",
   "metadata": {},
   "outputs": [
    {
     "data": {
      "image/png": "[encoded data removed]",
      "text/plain": [
       "<Figure size 576x432 with 1 Axes>"
      ]
     },
     "metadata": {
      "needs_background": "light"
     },
     "output_type": "display_data"
    }
   ],
   "source": [
    "buckets = [0, 0.5, 1.0, 1.5, 2.0, 2.5, 3.0, 3.5, 4.0, 4.5, 5.0]\n",
    "\n",
    "\n",
    "df['rating_bucket'] = pd.cut(df['average_rating'], bins=buckets, right=False)\n",
    "\n",
    "bucket_counts = df['rating_bucket'].value_counts().sort_index()\n",
    "\n",
    "plt.figure(figsize=(8, 6))\n",
    "bucket_counts.plot(kind='bar', color='skyblue')\n",
    "plt.title('Number of Books in Each Rating Bucket')\n",
    "plt.xlabel('Rating Bucket')\n",
    "plt.ylabel('Number of Books')\n",
    "plt.xticks(rotation=45)\n",
    "plt.grid(axis='y')\n",
    "plt.tight_layout()\n",
    "plt.show()"
   ]
  },
  {
   "cell_type": "code",
   "execution_count": null,
   "id": "77c990e3",
   "metadata": {},
   "outputs": [],
   "source": []
  }
 ],
 "metadata": {
  "kernelspec": {
   "display_name": "Python 3",
   "language": "python",
   "name": "python3"
  },
  "language_info": {
   "codemirror_mode": {
    "name": "ipython",
    "version": 3
   },
   "file_extension": ".py",
   "mimetype": "text/x-python",
   "name": "python",
   "nbconvert_exporter": "python",
   "pygments_lexer": "ipython3",
   "version": "3.8.8"
  }
 },
 "nbformat": 4,
 "nbformat_minor": 5
}
